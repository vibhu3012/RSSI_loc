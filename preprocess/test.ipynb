{
 "cells": [
  {
   "attachments": {},
   "cell_type": "markdown",
   "metadata": {},
   "source": [
    "# Radio Map"
   ]
  },
  {
   "cell_type": "code",
   "execution_count": 3,
   "metadata": {},
   "outputs": [],
   "source": [
    "import pickle \n",
    "import json\n",
    "import pandas as pd\n",
    "import numpy as np"
   ]
  },
  {
   "cell_type": "code",
   "execution_count": 4,
   "metadata": {},
   "outputs": [],
   "source": [
    "with open('RPs.pkl' , 'rb') as fp:\n",
    "    d = pickle.load(fp)"
   ]
  },
  {
   "cell_type": "code",
   "execution_count": 5,
   "metadata": {},
   "outputs": [],
   "source": [
    "with open('meta.json' , 'r') as fp:\n",
    "    meta = json.load(fp)"
   ]
  },
  {
   "cell_type": "code",
   "execution_count": 6,
   "metadata": {},
   "outputs": [
    {
     "data": {
      "text/plain": [
       "'\\nd has the following structure -> {location : RSSI value}\\n\\n\\nlocation - > room number.location in that room.timestamp.random\\nRSSI value -> a vector of length len(AP_LIST)\\n'"
      ]
     },
     "execution_count": 6,
     "metadata": {},
     "output_type": "execute_result"
    }
   ],
   "source": [
    "'''\n",
    "d has the following structure -> {location : RSSI value}\n",
    "\n",
    "\n",
    "location - > room number.location in that room.timestamp.random\n",
    "RSSI value -> a vector of length len(AP_LIST)\n",
    "'''"
   ]
  },
  {
   "cell_type": "code",
   "execution_count": 39,
   "metadata": {},
   "outputs": [],
   "source": [
    "AP_LIST = meta['ap_list']\n",
    "AP_MAP = {AP_LIST[i] : i for i in range(len(AP_LIST))}\n",
    "NUM_RECORDS = len(d)"
   ]
  },
  {
   "cell_type": "code",
   "execution_count": 8,
   "metadata": {},
   "outputs": [],
   "source": [
    "df = pd.DataFrame(AP_LIST, columns = ['AP'])\n",
    "temp = pd.DataFrame(d.values()).transpose()\n",
    "temp.columns = d.keys()\n",
    "df = pd.concat([df, temp] , axis = 1)\n",
    "df = df.set_index('AP')"
   ]
  },
  {
   "cell_type": "code",
   "execution_count": 9,
   "metadata": {},
   "outputs": [],
   "source": [
    "# dd = pd.DataFrame(AP_LIST, columns = ['AP'])\n",
    "# for k in list(d.keys()):\n",
    "#     temp = pd.DataFrame(d[k], columns=[k])\n",
    "#     dd = pd.concat([dd, temp] , axis = 1)\n",
    "# dd = dd.set_index('AP')"
   ]
  },
  {
   "cell_type": "code",
   "execution_count": 10,
   "metadata": {},
   "outputs": [],
   "source": [
    "def find_nth(haystack, needle, n):\n",
    "    start = haystack.find(needle)\n",
    "    while start >= 0 and n > 1:\n",
    "        start = haystack.find(needle, start+len(needle))\n",
    "        n -= 1\n",
    "    return start"
   ]
  },
  {
   "cell_type": "code",
   "execution_count": 11,
   "metadata": {},
   "outputs": [],
   "source": [
    "RP_LIST = sorted(list(set([x[:find_nth(x, '.', 2)] for x in list(df.columns)])))\n",
    "RP_MAP = {key : i for i, key in enumerate(RP_LIST)}\n",
    "TIMESTEPS = 5"
   ]
  },
  {
   "cell_type": "code",
   "execution_count": 12,
   "metadata": {},
   "outputs": [],
   "source": [
    "radio_map = {}\n",
    "\n",
    "for direction in ['north', 'south', 'east', 'west']:\n",
    "    arr = np.ndarray((len(AP_LIST), len(RP_MAP), TIMESTEPS), dtype = np.float16)\n",
    "    for key in RP_MAP:\n",
    "        cols = [x for x in df.columns if key + '.' + direction in x]\n",
    "        temp = df[cols].to_numpy()\n",
    "        arr[:,RP_MAP[key],:] = temp \n",
    "\n",
    "    radio_map[direction] = arr\n"
   ]
  },
  {
   "cell_type": "code",
   "execution_count": 16,
   "metadata": {},
   "outputs": [
    {
     "data": {
      "text/plain": [
       "(953, 116, 5)"
      ]
     },
     "execution_count": 16,
     "metadata": {},
     "output_type": "execute_result"
    }
   ],
   "source": [
    "radio_map['north'].shape"
   ]
  },
  {
   "attachments": {},
   "cell_type": "markdown",
   "metadata": {},
   "source": [
    "# Reliability and Similarity"
   ]
  },
  {
   "cell_type": "code",
   "execution_count": 45,
   "metadata": {},
   "outputs": [],
   "source": [
    "GAMMA = -80  #Threshold aboce whcih an AP readig is too small\n",
    "M = 3 #How many of the 5 time readings does the AP value need to be above GAMMA\n",
    "LAMBDA = 1 / 1000 #Specifies a small amount to be added to hamming distance denominator to avoid zero division error"
   ]
  },
  {
   "cell_type": "code",
   "execution_count": 35,
   "metadata": {},
   "outputs": [],
   "source": [
    "I = {} #Indicator matrices to check for \"reliable\" APs"
   ]
  },
  {
   "cell_type": "code",
   "execution_count": 36,
   "metadata": {},
   "outputs": [],
   "source": [
    "for direction in ['north', 'south', 'east', 'west']:\n",
    "    T = (radio_map[direction] > GAMMA).astype(int).sum(axis = 2)\n",
    "    _I = (T > M).astype(int)\n",
    "    I[direction] = _I"
   ]
  },
  {
   "cell_type": "code",
   "execution_count": 46,
   "metadata": {},
   "outputs": [],
   "source": [
    "S = {} #Similarity matrices which stores a score for how \"close\" two RPs are"
   ]
  },
  {
   "cell_type": "code",
   "execution_count": 47,
   "metadata": {},
   "outputs": [],
   "source": [
    "def hamming(a, b):\n",
    "    return 1 / (np.count_nonzero(a!=b) + LAMBDA)"
   ]
  },
  {
   "cell_type": "code",
   "execution_count": 48,
   "metadata": {},
   "outputs": [],
   "source": [
    "for direction in ['north', 'south', 'east', 'west']:\n",
    "    _S = np.ndarray((len(RP_MAP) , len(RP_MAP)))\n",
    "    _I = I[direction]\n",
    "    for i in range(len(RP_MAP)):\n",
    "        for j in range(len(RP_MAP)):\n",
    "            _S[i][j] = hamming(_I[:, i] , _I[:, j])\n",
    "    S[direction] = _S"
   ]
  },
  {
   "attachments": {},
   "cell_type": "markdown",
   "metadata": {},
   "source": [
    "# Stability"
   ]
  },
  {
   "cell_type": "code",
   "execution_count": null,
   "metadata": {},
   "outputs": [],
   "source": []
  }
 ],
 "metadata": {
  "kernelspec": {
   "display_name": "base",
   "language": "python",
   "name": "python3"
  },
  "language_info": {
   "codemirror_mode": {
    "name": "ipython",
    "version": 3
   },
   "file_extension": ".py",
   "mimetype": "text/x-python",
   "name": "python",
   "nbconvert_exporter": "python",
   "pygments_lexer": "ipython3",
   "version": "3.8.13"
  },
  "orig_nbformat": 4,
  "vscode": {
   "interpreter": {
    "hash": "4611ef259be3893fdea28d5ea2f139ceb09b7f08f4e5cb117abd1f5405ee5004"
   }
  }
 },
 "nbformat": 4,
 "nbformat_minor": 2
}
