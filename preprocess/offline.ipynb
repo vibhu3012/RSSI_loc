{
 "cells": [
  {
   "attachments": {},
   "cell_type": "markdown",
   "metadata": {},
   "source": [
    "# Radio Map"
   ]
  },
  {
   "cell_type": "code",
   "execution_count": 1,
   "metadata": {},
   "outputs": [],
   "source": [
    "import pickle \n",
    "import json\n",
    "import pandas as pd\n",
    "import numpy as np\n",
    "import collections"
   ]
  },
  {
   "cell_type": "code",
   "execution_count": 2,
   "metadata": {},
   "outputs": [],
   "source": [
    "with open('RPs.pkl' , 'rb') as fp:\n",
    "    d = pickle.load(fp)"
   ]
  },
  {
   "cell_type": "code",
   "execution_count": 3,
   "metadata": {},
   "outputs": [],
   "source": [
    "with open('meta.json' , 'r') as fp:\n",
    "    meta = json.load(fp)"
   ]
  },
  {
   "cell_type": "code",
   "execution_count": 4,
   "metadata": {},
   "outputs": [
    {
     "data": {
      "text/plain": [
       "'\\nd has the following structure -> {location : RSSI value}\\n\\n\\nlocation - > room number.location in that room.timestamp.random\\nRSSI value -> a vector of length len(AP_LIST)\\n'"
      ]
     },
     "execution_count": 4,
     "metadata": {},
     "output_type": "execute_result"
    }
   ],
   "source": [
    "'''\n",
    "d has the following structure -> {location : RSSI value}\n",
    "\n",
    "\n",
    "location - > room number.location in that room.timestamp.random\n",
    "RSSI value -> a vector of length len(AP_LIST)\n",
    "'''"
   ]
  },
  {
   "cell_type": "code",
   "execution_count": 5,
   "metadata": {},
   "outputs": [],
   "source": [
    "AP_LIST = meta['ap_list']\n",
    "AP_MAP = {AP_LIST[i] : i for i in range(len(AP_LIST))}\n",
    "NUM_RECORDS = len(d)\n",
    "DIRECTIONS =  ['north', 'south', 'east', 'west']"
   ]
  },
  {
   "cell_type": "code",
   "execution_count": 6,
   "metadata": {},
   "outputs": [],
   "source": [
    "df = pd.DataFrame(AP_LIST, columns = ['AP'])\n",
    "temp = pd.DataFrame(d.values()).transpose()\n",
    "temp.columns = d.keys()\n",
    "df = pd.concat([df, temp] , axis = 1)\n",
    "df = df.set_index('AP')"
   ]
  },
  {
   "cell_type": "code",
   "execution_count": 7,
   "metadata": {},
   "outputs": [
    {
     "data": {
      "text/html": [
       "<div>\n",
       "<style scoped>\n",
       "    .dataframe tbody tr th:only-of-type {\n",
       "        vertical-align: middle;\n",
       "    }\n",
       "\n",
       "    .dataframe tbody tr th {\n",
       "        vertical-align: top;\n",
       "    }\n",
       "\n",
       "    .dataframe thead th {\n",
       "        text-align: right;\n",
       "    }\n",
       "</style>\n",
       "<table border=\"1\" class=\"dataframe\">\n",
       "  <thead>\n",
       "    <tr style=\"text-align: right;\">\n",
       "      <th></th>\n",
       "      <th>B7.1.north.1674507393.zjg0b</th>\n",
       "      <th>B7.1.north.1674507395.k26zy</th>\n",
       "      <th>B7.1.north.1674507397.pcipr</th>\n",
       "      <th>B7.1.north.1674507398.rs7qu</th>\n",
       "      <th>B7.1.north.1674507400.ouufp</th>\n",
       "      <th>B7.1.east.1674507403.ny1kt</th>\n",
       "      <th>B7.1.east.1674507405.76foq</th>\n",
       "      <th>B7.1.east.1674507407.l2cc6</th>\n",
       "      <th>B7.1.east.1674507408.ta03m</th>\n",
       "      <th>B7.1.east.1674507410.3yp8b</th>\n",
       "      <th>...</th>\n",
       "      <th>B5.4.south.1674507312.2xnka</th>\n",
       "      <th>B5.4.south.1674507314.v4bfk</th>\n",
       "      <th>B5.4.south.1674507315.y4pck</th>\n",
       "      <th>B5.4.south.1674507317.v9v01</th>\n",
       "      <th>B5.4.south.1674507319.9m61s</th>\n",
       "      <th>B5.4.west.1674507323.umd0n</th>\n",
       "      <th>B5.4.west.1674507324.9s3bx</th>\n",
       "      <th>B5.4.west.1674507326.zhzer</th>\n",
       "      <th>B5.4.west.1674507328.i9eco</th>\n",
       "      <th>B5.4.west.1674507329.ob8h2</th>\n",
       "    </tr>\n",
       "  </thead>\n",
       "  <tbody>\n",
       "    <tr>\n",
       "      <th>count</th>\n",
       "      <td>38</td>\n",
       "      <td>59</td>\n",
       "      <td>66</td>\n",
       "      <td>74</td>\n",
       "      <td>85</td>\n",
       "      <td>86</td>\n",
       "      <td>91</td>\n",
       "      <td>95</td>\n",
       "      <td>97</td>\n",
       "      <td>98</td>\n",
       "      <td>...</td>\n",
       "      <td>81</td>\n",
       "      <td>83</td>\n",
       "      <td>86</td>\n",
       "      <td>89</td>\n",
       "      <td>89</td>\n",
       "      <td>89</td>\n",
       "      <td>87</td>\n",
       "      <td>92</td>\n",
       "      <td>96</td>\n",
       "      <td>100</td>\n",
       "    </tr>\n",
       "    <tr>\n",
       "      <th>unique</th>\n",
       "      <td>18</td>\n",
       "      <td>25</td>\n",
       "      <td>24</td>\n",
       "      <td>24</td>\n",
       "      <td>26</td>\n",
       "      <td>24</td>\n",
       "      <td>23</td>\n",
       "      <td>25</td>\n",
       "      <td>30</td>\n",
       "      <td>26</td>\n",
       "      <td>...</td>\n",
       "      <td>25</td>\n",
       "      <td>24</td>\n",
       "      <td>21</td>\n",
       "      <td>22</td>\n",
       "      <td>24</td>\n",
       "      <td>24</td>\n",
       "      <td>23</td>\n",
       "      <td>24</td>\n",
       "      <td>22</td>\n",
       "      <td>25</td>\n",
       "    </tr>\n",
       "    <tr>\n",
       "      <th>top</th>\n",
       "      <td>-83</td>\n",
       "      <td>-88</td>\n",
       "      <td>-88</td>\n",
       "      <td>-90</td>\n",
       "      <td>-88</td>\n",
       "      <td>-80</td>\n",
       "      <td>-89</td>\n",
       "      <td>-89</td>\n",
       "      <td>-89</td>\n",
       "      <td>-89</td>\n",
       "      <td>...</td>\n",
       "      <td>-87</td>\n",
       "      <td>-85</td>\n",
       "      <td>-92</td>\n",
       "      <td>-76</td>\n",
       "      <td>-90</td>\n",
       "      <td>-84</td>\n",
       "      <td>-90</td>\n",
       "      <td>-84</td>\n",
       "      <td>-89</td>\n",
       "      <td>-89</td>\n",
       "    </tr>\n",
       "    <tr>\n",
       "      <th>freq</th>\n",
       "      <td>5</td>\n",
       "      <td>7</td>\n",
       "      <td>5</td>\n",
       "      <td>8</td>\n",
       "      <td>8</td>\n",
       "      <td>8</td>\n",
       "      <td>8</td>\n",
       "      <td>10</td>\n",
       "      <td>10</td>\n",
       "      <td>10</td>\n",
       "      <td>...</td>\n",
       "      <td>7</td>\n",
       "      <td>7</td>\n",
       "      <td>9</td>\n",
       "      <td>9</td>\n",
       "      <td>8</td>\n",
       "      <td>10</td>\n",
       "      <td>11</td>\n",
       "      <td>9</td>\n",
       "      <td>10</td>\n",
       "      <td>10</td>\n",
       "    </tr>\n",
       "  </tbody>\n",
       "</table>\n",
       "<p>4 rows × 2320 columns</p>\n",
       "</div>"
      ],
      "text/plain": [
       "       B7.1.north.1674507393.zjg0b B7.1.north.1674507395.k26zy  \\\n",
       "count                           38                          59   \n",
       "unique                          18                          25   \n",
       "top                            -83                         -88   \n",
       "freq                             5                           7   \n",
       "\n",
       "       B7.1.north.1674507397.pcipr B7.1.north.1674507398.rs7qu  \\\n",
       "count                           66                          74   \n",
       "unique                          24                          24   \n",
       "top                            -88                         -90   \n",
       "freq                             5                           8   \n",
       "\n",
       "       B7.1.north.1674507400.ouufp B7.1.east.1674507403.ny1kt  \\\n",
       "count                           85                         86   \n",
       "unique                          26                         24   \n",
       "top                            -88                        -80   \n",
       "freq                             8                          8   \n",
       "\n",
       "       B7.1.east.1674507405.76foq B7.1.east.1674507407.l2cc6  \\\n",
       "count                          91                         95   \n",
       "unique                         23                         25   \n",
       "top                           -89                        -89   \n",
       "freq                            8                         10   \n",
       "\n",
       "       B7.1.east.1674507408.ta03m B7.1.east.1674507410.3yp8b  ...  \\\n",
       "count                          97                         98  ...   \n",
       "unique                         30                         26  ...   \n",
       "top                           -89                        -89  ...   \n",
       "freq                           10                         10  ...   \n",
       "\n",
       "       B5.4.south.1674507312.2xnka B5.4.south.1674507314.v4bfk  \\\n",
       "count                           81                          83   \n",
       "unique                          25                          24   \n",
       "top                            -87                         -85   \n",
       "freq                             7                           7   \n",
       "\n",
       "       B5.4.south.1674507315.y4pck B5.4.south.1674507317.v9v01  \\\n",
       "count                           86                          89   \n",
       "unique                          21                          22   \n",
       "top                            -92                         -76   \n",
       "freq                             9                           9   \n",
       "\n",
       "       B5.4.south.1674507319.9m61s B5.4.west.1674507323.umd0n  \\\n",
       "count                           89                         89   \n",
       "unique                          24                         24   \n",
       "top                            -90                        -84   \n",
       "freq                             8                         10   \n",
       "\n",
       "       B5.4.west.1674507324.9s3bx B5.4.west.1674507326.zhzer  \\\n",
       "count                          87                         92   \n",
       "unique                         23                         24   \n",
       "top                           -90                        -84   \n",
       "freq                           11                          9   \n",
       "\n",
       "       B5.4.west.1674507328.i9eco B5.4.west.1674507329.ob8h2  \n",
       "count                          96                        100  \n",
       "unique                         22                         25  \n",
       "top                           -89                        -89  \n",
       "freq                           10                         10  \n",
       "\n",
       "[4 rows x 2320 columns]"
      ]
     },
     "execution_count": 7,
     "metadata": {},
     "output_type": "execute_result"
    }
   ],
   "source": [
    "df.describe()"
   ]
  },
  {
   "cell_type": "code",
   "execution_count": 8,
   "metadata": {},
   "outputs": [],
   "source": [
    "# dd = pd.DataFrame(AP_LIST, columns = ['AP'])\n",
    "# for k in list(d.keys()):\n",
    "#     temp = pd.DataFrame(d[k], columns=[k])\n",
    "#     dd = pd.concat([dd, temp] , axis = 1)\n",
    "# dd = dd.set_index('AP')"
   ]
  },
  {
   "cell_type": "code",
   "execution_count": 9,
   "metadata": {},
   "outputs": [],
   "source": [
    "def find_nth(haystack, needle, n):\n",
    "    start = haystack.find(needle)\n",
    "    while start >= 0 and n > 1:\n",
    "        start = haystack.find(needle, start+len(needle))\n",
    "        n -= 1\n",
    "    return start"
   ]
  },
  {
   "cell_type": "code",
   "execution_count": 10,
   "metadata": {},
   "outputs": [],
   "source": [
    "RP_LIST = sorted(list(set([x[:find_nth(x, '.', 2)] for x in list(df.columns)])))\n",
    "RP_MAP = {key : i for i, key in enumerate(RP_LIST)}\n",
    "TIMESTEPS = 5"
   ]
  },
  {
   "cell_type": "code",
   "execution_count": 11,
   "metadata": {},
   "outputs": [],
   "source": [
    "radio_map = {}\n",
    "\n",
    "for direction in DIRECTIONS:\n",
    "    arr = np.ndarray((len(AP_LIST), len(RP_MAP), TIMESTEPS), dtype = np.float16)\n",
    "    for key in RP_MAP:\n",
    "        cols = [x for x in df.columns if key + '.' + direction in x]\n",
    "        temp = df[cols].to_numpy()\n",
    "        arr[:,RP_MAP[key],:] = temp \n",
    "\n",
    "    radio_map[direction] = arr\n"
   ]
  },
  {
   "cell_type": "code",
   "execution_count": 12,
   "metadata": {},
   "outputs": [
    {
     "data": {
      "text/plain": [
       "(953, 116, 5)"
      ]
     },
     "execution_count": 12,
     "metadata": {},
     "output_type": "execute_result"
    }
   ],
   "source": [
    "radio_map['north'].shape"
   ]
  },
  {
   "attachments": {},
   "cell_type": "markdown",
   "metadata": {},
   "source": [
    "# Reliability and Similarity"
   ]
  },
  {
   "cell_type": "code",
   "execution_count": 13,
   "metadata": {},
   "outputs": [],
   "source": [
    "GAMMA = -80  #Threshold above whcih an AP readig is too small\n",
    "M = 2 #How many of the 5 time readings does the AP value need to be above GAMMA\n",
    "LAMBDA = 1 / 1000 #Specifies a small amount to be added to hamming distance denominator to avoid zero division error"
   ]
  },
  {
   "cell_type": "code",
   "execution_count": 14,
   "metadata": {},
   "outputs": [],
   "source": [
    "I = {} #Indicator matrices to check for \"reliable\" APs"
   ]
  },
  {
   "cell_type": "code",
   "execution_count": 15,
   "metadata": {},
   "outputs": [],
   "source": [
    "for direction in DIRECTIONS:\n",
    "    T = (radio_map[direction] > GAMMA).astype(int).sum(axis = 2)\n",
    "    _I = (T > M).astype(int)\n",
    "    I[direction] = _I"
   ]
  },
  {
   "cell_type": "code",
   "execution_count": 16,
   "metadata": {},
   "outputs": [],
   "source": [
    "S = {} #Similarity matrices which stores a score for how \"close\" two RPs are"
   ]
  },
  {
   "cell_type": "code",
   "execution_count": 17,
   "metadata": {},
   "outputs": [],
   "source": [
    "def hamming(a, b):\n",
    "    return 1 / (np.count_nonzero(a!=b) + LAMBDA)"
   ]
  },
  {
   "cell_type": "code",
   "execution_count": 18,
   "metadata": {},
   "outputs": [],
   "source": [
    "for direction in DIRECTIONS:\n",
    "    _S = np.ndarray((len(RP_MAP) , len(RP_MAP)))\n",
    "    _I = I[direction]\n",
    "    for i in range(len(RP_MAP)):\n",
    "        for j in range(len(RP_MAP)):\n",
    "            _S[i][j] = hamming(_I[:, i] , _I[:, j])\n",
    "    S[direction] = _S"
   ]
  },
  {
   "attachments": {},
   "cell_type": "markdown",
   "metadata": {},
   "source": [
    "# Stability"
   ]
  },
  {
   "cell_type": "code",
   "execution_count": 19,
   "metadata": {},
   "outputs": [],
   "source": [
    "delta = {} # Stability matrix for assigning new cluster centroid"
   ]
  },
  {
   "cell_type": "code",
   "execution_count": 20,
   "metadata": {},
   "outputs": [
    {
     "name": "stderr",
     "output_type": "stream",
     "text": [
      "/var/folders/48/z568rjb95513g5z3q1_tlmbm0000gn/T/ipykernel_77993/3170060250.py:5: RuntimeWarning: divide by zero encountered in true_divide\n",
      "  _delta = np.sum(np.nan_to_num(_delta) * I[direction] , axis = 0) * (1 / (np.sum(I[direction] , axis = 0)))\n",
      "/var/folders/48/z568rjb95513g5z3q1_tlmbm0000gn/T/ipykernel_77993/3170060250.py:5: RuntimeWarning: invalid value encountered in multiply\n",
      "  _delta = np.sum(np.nan_to_num(_delta) * I[direction] , axis = 0) * (1 / (np.sum(I[direction] , axis = 0)))\n"
     ]
    }
   ],
   "source": [
    "for direction in DIRECTIONS:\n",
    "    _psi = np.sum(radio_map[direction], axis = 2) / TIMESTEPS\n",
    "    # print(_psi.shape)\n",
    "    _delta = np.sum((radio_map[direction] - _psi[:, :, np.newaxis]) ** 2 , axis = 2) / (TIMESTEPS-1)\n",
    "    _delta = np.sum(np.nan_to_num(_delta) * I[direction] , axis = 0) * (1 / (np.sum(I[direction] , axis = 0)))\n",
    "    # print(_delta)\n",
    "    delta[direction] = _delta\n",
    "\n"
   ]
  },
  {
   "attachments": {},
   "cell_type": "markdown",
   "metadata": {},
   "source": [
    "# Clustering"
   ]
  },
  {
   "cell_type": "code",
   "execution_count": 21,
   "metadata": {},
   "outputs": [],
   "source": [
    "ETA = 0.01 #Threshold for similarity for a node to belong to a cluster"
   ]
  },
  {
   "cell_type": "code",
   "execution_count": 22,
   "metadata": {},
   "outputs": [],
   "source": [
    "CH = collections.defaultdict(lambda : collections.defaultdict(set))\n",
    "FL = collections.defaultdict(lambda : collections.defaultdict(set))\n",
    "\n",
    "for direction in ['north']:\n",
    "    B = set([i for i in range(len(RP_MAP))])\n",
    "    _S = S[direction]\n",
    "    k = -1\n",
    "    while B:\n",
    "        k += 1\n",
    "        fl = set()\n",
    "        node = B.pop()\n",
    "        for j in B:\n",
    "            if j != node and _S[j,node] >= ETA:\n",
    "                fl.add(j)\n",
    "        B = B - fl\n",
    "        CH[direction][k] = set([node])\n",
    "        FL[direction][k] = fl\n",
    "\n",
    "    K = k\n",
    "    for k in range(K+1):\n",
    "        cluster = list(CH[direction][k] | FL[direction][k])\n",
    "        stabilities = delta[direction][cluster]\n",
    "        CH[direction][k] = set([cluster[np.argmin(stabilities)]])\n",
    "        FL[direction][k] = set(cluster) - CH[direction][k]\n",
    "\n"
   ]
  },
  {
   "cell_type": "code",
   "execution_count": null,
   "metadata": {},
   "outputs": [],
   "source": []
  }
 ],
 "metadata": {
  "kernelspec": {
   "display_name": "base",
   "language": "python",
   "name": "python3"
  },
  "language_info": {
   "codemirror_mode": {
    "name": "ipython",
    "version": 3
   },
   "file_extension": ".py",
   "mimetype": "text/x-python",
   "name": "python",
   "nbconvert_exporter": "python",
   "pygments_lexer": "ipython3",
   "version": "3.8.13"
  },
  "orig_nbformat": 4,
  "vscode": {
   "interpreter": {
    "hash": "4611ef259be3893fdea28d5ea2f139ceb09b7f08f4e5cb117abd1f5405ee5004"
   }
  }
 },
 "nbformat": 4,
 "nbformat_minor": 2
}
