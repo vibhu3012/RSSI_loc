{
 "cells": [
  {
   "cell_type": "code",
   "execution_count": null,
   "metadata": {},
   "outputs": [
    {
     "ename": "",
     "evalue": "",
     "output_type": "error",
     "traceback": [
      "\u001b[1;31mJupyter cannot be started. Error attempting to locate Jupyter: Running cells with 'Python 3.11.0 64-bit' requires jupyter and notebook package.\n",
      "\u001b[1;31mRun the following command to install 'jupyter and notebook' into the Python environment. \n",
      "\u001b[1;31mCommand: 'python -m pip install jupyter notebook -U\n",
      "\u001b[1;31mor\n",
      "\u001b[1;31mconda install jupyter notebook -U'\n",
      "\u001b[1;31mClick <a href='https://aka.ms/installJupyterForVSCode'>here</a> for more info."
     ]
    }
   ],
   "source": [
    "# MACOS RSSI sampler\n",
    "# WINGS.BangyaLiu\n",
    "\n",
    "import subprocess\n",
    "import json\n",
    "import time\n",
    "\n",
    "CMD = \"/System/Library/PrivateFrameworks/Apple80211.framework/Versions/Current/Resources/airport\"\n",
    "ROUTE_MODE = False\n",
    "DUP = 5\n",
    "\n",
    "def get_fp_triad_list():\n",
    "    scan_cmd = subprocess.Popen([CMD, '-s'], stdout=subprocess.PIPE, stderr=subprocess.STDOUT)\n",
    "    scan_out, scan_err = scan_cmd.communicate()\n",
    "    scan_out_lines = str(scan_out).split(\"\\\\n\")[1:-1]\n",
    "    triad_list = []\n",
    "    for l in scan_out_lines:\n",
    "        name = l[:32].strip()\n",
    "        mac = l[33:50]\n",
    "        rssi = int(l[51:55])\n",
    "        triad_list.append([name, mac, rssi])\n",
    "    triad_list.sort(key = lambda x: x[0])\n",
    "    return triad_list\n",
    "\n",
    "def json_package(locId):\n",
    "    \"\"\"\n",
    "        file name: sectionId_devName.json \n",
    "        NOTICE: It should be a JSON LIST but for the convenience of incremental record, brackets are eliminated.\n",
    "        {\n",
    "            \"location\" : string,\n",
    "            \"timestamp\" : timestamp,\n",
    "            \"counter\" : integer,\n",
    "            \"fingerprint\" : [[Triad], [Triad], ... , [Triad]],\n",
    "        } * N lines\n",
    "    \"\"\"\n",
    "    readingAP = get_fp_triad_list()\n",
    "    one_record = {\n",
    "        \"location\" : locId,\n",
    "        \"timestamp\" : int(time.time()),\n",
    "        \"counter\" : len(readingAP),\n",
    "        \"fingerprint\" : readingAP\n",
    "    }\n",
    "    return json.dumps(one_record)\n",
    "\n",
    "def main():\n",
    "    devName = \"mac_air_m1\"\n",
    "    secId = input(\"which section you are at : \").replace(\" \", \"\")\n",
    "    fileName = devName + \"_\" + str(secId) + \".json\"\n",
    "    locId = input(\"what is your current location : \")\n",
    "    while locId:\n",
    "        with open(fileName, \"a+\") as f:\n",
    "            if DUP > 0:\n",
    "                for i in range(DUP):\n",
    "                    f.write(json_package(str(locId)) + \"\\n\")\n",
    "            else:\n",
    "                f.write(json_package(str(locId)) + \"\\n\")\n",
    "        locId = input(\"what is your current location : \")\n",
    "\n",
    "def route_mode():\n",
    "    devName = input(\"what is your device : \").replace(\" \", \"\")\n",
    "    secId = input(\"which section you are at : \").replace(\" \", \"\")\n",
    "    fileName = devName + \"_\" + str(secId) + \".json\"\n",
    "    interval = int(input(\"route mode interval (s) : \"))\n",
    "    totalCtr = int(input(\"total samples to gather : \"))\n",
    "    for locId in range(totalCtr):\n",
    "        print(\"[route mode] start collecting sample#{}.\".format(locId))\n",
    "        with open(fileName, \"a+\") as f:\n",
    "            if DUP > 0:\n",
    "                for i in range(DUP):\n",
    "                    f.write(json_package(str(locId)) + \"\\n\")\n",
    "            else:\n",
    "                f.write(json_package(str(locId)) + \"\\n\")\n",
    "        print(\"[route mode] sample#{} has been collected, go to the next spot with in {} seconds.\".format(locId, interval))\n",
    "        time.sleep(interval)\n",
    "\n",
    "if ROUTE_MODE:\n",
    "    route_mode()\n",
    "else:\n",
    "    main()\n"
   ]
  },
  {
   "cell_type": "code",
   "execution_count": null,
   "metadata": {},
   "outputs": [
    {
     "ename": "",
     "evalue": "",
     "output_type": "error",
     "traceback": [
      "\u001b[1;31mJupyter cannot be started. Error attempting to locate Jupyter: Running cells with 'Python 3.11.0 64-bit' requires jupyter and notebook package.\n",
      "\u001b[1;31mRun the following command to install 'jupyter and notebook' into the Python environment. \n",
      "\u001b[1;31mCommand: 'python -m pip install jupyter notebook -U\n",
      "\u001b[1;31mor\n",
      "\u001b[1;31mconda install jupyter notebook -U'\n",
      "\u001b[1;31mClick <a href='https://aka.ms/installJupyterForVSCode'>here</a> for more info."
     ]
    }
   ],
   "source": []
  }
 ],
 "metadata": {
  "kernelspec": {
   "display_name": "Python 3.9.15 64-bit",
   "language": "python",
   "name": "python3"
  },
  "language_info": {
   "codemirror_mode": {
    "name": "ipython",
    "version": 3
   },
   "file_extension": ".py",
   "mimetype": "text/x-python",
   "name": "python",
   "nbconvert_exporter": "python",
   "pygments_lexer": "ipython3",
   "version": "3.11.0"
  },
  "orig_nbformat": 4,
  "vscode": {
   "interpreter": {
    "hash": "aee8b7b246df8f9039afb4144a1f6fd8d2ca17a180786b69acc140d282b71a49"
   }
  }
 },
 "nbformat": 4,
 "nbformat_minor": 2
}
