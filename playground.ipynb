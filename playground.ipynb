{
 "cells": [
  {
   "cell_type": "code",
   "execution_count": 4,
   "metadata": {},
   "outputs": [],
   "source": [
    "import json\n",
    "import pickle"
   ]
  },
  {
   "cell_type": "code",
   "execution_count": 5,
   "metadata": {},
   "outputs": [],
   "source": [
    "with open('config.json' , 'r') as f:\n",
    "    conf = json.load(f)"
   ]
  },
  {
   "cell_type": "code",
   "execution_count": 6,
   "metadata": {},
   "outputs": [],
   "source": [
    "with open(conf[\"SRC_PATH\"] + conf[\"RP_META\"], \"r\") as mf:\n",
    "    meta = json.load(mf)\n",
    "    all_ap = meta[\"ap_list\"]\n",
    "\n",
    "with open(conf[\"SRC_PATH\"] + conf[\"RP_PKL\"], \"rb\") as rpf:\n",
    "    all_rps = pickle.load(rpf)"
   ]
  },
  {
   "cell_type": "code",
   "execution_count": 16,
   "metadata": {},
   "outputs": [],
   "source": [
    "with open('preprocess/RPs.pkl', \"rb\") as rpf:\n",
    "    d = pickle.load(rpf)"
   ]
  },
  {
   "cell_type": "code",
   "execution_count": 9,
   "metadata": {},
   "outputs": [],
   "source": [
    "with open(conf[\"SRC_PATH\"] + conf[\"PRE_CLUSTERED\"], \"r\") as clf:\n",
    "        clustering = json.load(clf)"
   ]
  },
  {
   "cell_type": "code",
   "execution_count": 10,
   "metadata": {},
   "outputs": [
    {
     "name": "stdout",
     "output_type": "stream",
     "text": [
      "mu: -81.80, std: 0.40\n"
     ]
    }
   ],
   "source": [
    "import numpy as np\n",
    "from scipy.stats import norm\n",
    "import matplotlib.pyplot as plt\n",
    "\n",
    "def fit_gaussian_distribution(data):\n",
    "    mu, std = norm.fit(data)\n",
    "    return mu, std\n",
    "\n",
    "# Example usage:\n",
    "data = [-82, -82, -82, -82, -81]\n",
    "mu, std = fit_gaussian_distribution(data)\n",
    "print(f\"mu: {mu:.2f}, std: {std:.2f}\")\n"
   ]
  },
  {
   "cell_type": "code",
   "execution_count": 11,
   "metadata": {},
   "outputs": [
    {
     "data": {
      "image/png": "[encoded data removed]",
      "text/plain": [
       "<Figure size 640x480 with 1 Axes>"
      ]
     },
     "metadata": {},
     "output_type": "display_data"
    }
   ],
   "source": [
    "# Plot the histogram of the input data and the fitted Gaussian distribution\n",
    "x = np.linspace(min(data), max(data), 100)\n",
    "plt.hist(data, bins=15, density=True, alpha=0.6)\n",
    "plt.plot(x, norm.pdf(x, mu, std), 'r-', lw=2)\n",
    "plt.show()\n",
    "\n"
   ]
  },
  {
   "cell_type": "code",
   "execution_count": 14,
   "metadata": {},
   "outputs": [
    {
     "name": "stdout",
     "output_type": "stream",
     "text": [
      "PDF at x=0: 7.694598626706419e-22\n",
      "CDF at x=1: 1.0\n"
     ]
    }
   ],
   "source": [
    "import scipy.stats as stats\n",
    "\n",
    "# Define the mean and standard deviation of the Gaussian distribution\n",
    "mu = 0\n",
    "sigma = 0.1\n",
    "\n",
    "# Create a normal distribution object with the given mean and standard deviation\n",
    "dist = stats.norm(mu, sigma)\n",
    "\n",
    "# Calculate the probability density function (PDF) at a given point\n",
    "x = 0\n",
    "pdf = dist.pdf(-1)\n",
    "print(f\"PDF at x={x}: {pdf}\")\n",
    "\n",
    "# Calculate the cumulative distribution function (CDF) at a given point\n",
    "x = 1\n",
    "cdf = dist.cdf(x)\n",
    "print(f\"CDF at x={x}: {cdf}\")\n"
   ]
  },
  {
   "cell_type": "code",
   "execution_count": 1,
   "metadata": {},
   "outputs": [
    {
     "data": {
      "text/plain": [
       "array([ 1.,  2., nan], dtype=float16)"
      ]
     },
     "execution_count": 1,
     "metadata": {},
     "output_type": "execute_result"
    }
   ],
   "source": [
    "arr = [1,2,None]\n",
    "\n",
    "import numpy as np\n",
    "\n",
    "arr = np.array(arr, dtype = np.float16)\n",
    "\n",
    "arr"
   ]
  },
  {
   "cell_type": "code",
   "execution_count": null,
   "metadata": {},
   "outputs": [],
   "source": []
  }
 ],
 "metadata": {
  "kernelspec": {
   "display_name": "Python 3",
   "language": "python",
   "name": "python3"
  },
  "language_info": {
   "codemirror_mode": {
    "name": "ipython",
    "version": 3
   },
   "file_extension": ".py",
   "mimetype": "text/x-python",
   "name": "python",
   "nbconvert_exporter": "python",
   "pygments_lexer": "ipython3",
   "version": "3.8.13"
  },
  "orig_nbformat": 4
 },
 "nbformat": 4,
 "nbformat_minor": 2
}
